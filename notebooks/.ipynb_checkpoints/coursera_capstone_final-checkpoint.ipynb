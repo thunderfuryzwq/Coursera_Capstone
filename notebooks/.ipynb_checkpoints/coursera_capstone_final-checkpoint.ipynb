{
 "cells": [
  {
   "cell_type": "markdown",
   "metadata": {},
   "source": [
    "# Cousera Capstone Final Project - Find Similar Neighborhood"
   ]
  },
  {
   "cell_type": "markdown",
   "metadata": {},
   "source": [
    "## 1 Problem Description"
   ]
  },
  {
   "cell_type": "markdown",
   "metadata": {},
   "source": [
    "Suppose someone is currently living near **Kensington Market, Toronto, ON, Canada**, and is moving to the Bay Area to starting her new career.  \n",
    "Her new work address will be **1330 Geneva Dr, Sunnyvale, CA 94089**.  \n",
    "\n",
    "She wants to find a similar neighborhood in the Santa Clara County to live in, but she would also weigh commute time."
   ]
  },
  {
   "cell_type": "markdown",
   "metadata": {},
   "source": [
    "## 2. Data"
   ]
  },
  {
   "cell_type": "markdown",
   "metadata": {},
   "source": [
    "**The neighborhood data of Santa Clara County** is available on https://www.sccgov.org/sites/phd/hi/hd/Pages/city-profiles.aspx to get all neighborhoods in Santa Clara County  \\\n",
    "**Foursquares location data (Places API)** will be used to obtain neighborhood venues data to find similar neighborhoods in Santa Clara County.  \n",
    "**Google Maps Geocoding API** will be used to obtain coordinates of the neighborhoods to feed into Foursquares Places API.  \n",
    "**Google Maps Distance Matrix API** will be used to obtain the commute time from each neighborhood to her new work address."
   ]
  },
  {
   "cell_type": "code",
   "execution_count": null,
   "metadata": {},
   "outputs": [],
   "source": []
  }
 ],
 "metadata": {
  "kernelspec": {
   "display_name": "Python 3",
   "language": "python",
   "name": "python3"
  },
  "language_info": {
   "name": ""
  }
 },
 "nbformat": 4,
 "nbformat_minor": 4
}
